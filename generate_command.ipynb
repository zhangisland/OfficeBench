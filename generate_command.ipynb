{
 "cells": [
  {
   "cell_type": "code",
   "execution_count": 5,
   "metadata": {},
   "outputs": [],
   "source": [
    "COMMAND = (\n",
    "    'python agent_interact.py '\n",
    "    '--docker_name {docker_name} '\n",
    "    '--container_name {container_name} '\n",
    "    '--model_name {model_name} '\n",
    "    '--task_dir {task_dir} '\n",
    "    '--config_file {config_file} '\n",
    "    '--tag {tag} '\n",
    "    '--max_iter {max_iter} '\n",
    "    '--mode {mode}'\n",
    ")"
   ]
  },
  {
   "cell_type": "code",
   "execution_count": 7,
   "metadata": {},
   "outputs": [
    {
     "name": "stdout",
     "output_type": "stream",
     "text": [
      "python agent_interact.py --docker_name docker_officebench --container_name container_officebench --model_name gemini-1.5-flash --task_dir tasks/1-20 --config_file tasks/1-20/subtasks/0.json --tag test --max_iter 1 --mode force_new\n"
     ]
    }
   ],
   "source": [
    "#### myself\n",
    "TAG = 'test'\n",
    "\n",
    "DOCKER_NAME = \"docker_officebench\"\n",
    "MODEL_NAME = 'gemini-1.5-flash'\n",
    "CONTAINER_NAME = f'container_officebench'\n",
    "TASK_DIR = 'tasks/1-20'\n",
    "CONFIG_FILE = 'tasks/1-20/subtasks/0.json'\n",
    "MODE = 'force_new' # 'default'\n",
    "MAX_ITER = 1\n",
    "\n",
    "print(COMMAND.format(\n",
    "    docker_name=DOCKER_NAME,\n",
    "    container_name=CONTAINER_NAME,\n",
    "    model_name=MODEL_NAME,\n",
    "    task_dir=TASK_DIR,\n",
    "    config_file=CONFIG_FILE,\n",
    "    tag=TAG,\n",
    "    max_iter=MAX_ITER,\n",
    "    mode=MODE\n",
    "))"
   ]
  },
  {
   "cell_type": "markdown",
   "metadata": {},
   "source": [
    "Single Run"
   ]
  },
  {
   "cell_type": "code",
   "execution_count": null,
   "metadata": {},
   "outputs": [],
   "source": [
    "TAG = 'test'\n",
    "\n",
    "DOCKER_NAME = \"officebench\"\n",
    "MODEL_NAME = 'gpt-4o-2024-05-13'\n",
    "CONTAINER_NAME = f'officebench-{TAG}'\n",
    "TASK_DIR = 'tasks/1-20'\n",
    "CONFIG_FILE = 'tasks/1-20/subtasks/0.json'\n",
    "MODE = 'default'\n",
    "MAX_ITER = 40\n",
    "\n",
    "print(COMMAND.format(\n",
    "    docker_name=DOCKER_NAME,\n",
    "    container_name=CONTAINER_NAME,\n",
    "    model_name=MODEL_NAME,\n",
    "    task_dir=TASK_DIR,\n",
    "    config_file=CONFIG_FILE,\n",
    "    tag=TAG,\n",
    "    max_iter=MAX_ITER,\n",
    "    mode=MODE\n",
    "))"
   ]
  },
  {
   "cell_type": "markdown",
   "metadata": {},
   "source": [
    "Multiple Runs"
   ]
  },
  {
   "cell_type": "code",
   "execution_count": null,
   "metadata": {},
   "outputs": [],
   "source": [
    "import glob\n",
    "\n",
    "TAG = 'test'\n",
    "SCRIPT_FILE = f'{TAG}.sh'\n",
    "\n",
    "DOCKER_NAME = \"officebench\"\n",
    "MODEL_NAME = 'gpt-4o-2024-05-13'\n",
    "MAX_ITER = 20\n",
    "TASK_DIR = sorted(glob.glob('tasks/*'))\n",
    "\n",
    "with open(SCRIPT_FILE, 'w') as fw:\n",
    "    to_print = []\n",
    "    for task_dir in TASK_DIR:\n",
    "        for config_file in sorted(glob.glob(f'{task_dir}/subtasks/*.json')):\n",
    "            command = COMMAND.format(\n",
    "                docker_name=DOCKER_NAME,\n",
    "                container_name=f'officebench-{TAG}',\n",
    "                model_name=MODEL_NAME,\n",
    "                task_dir=task_dir,\n",
    "                config_file=config_file,\n",
    "                tag=TAG,\n",
    "                max_iter=MAX_ITER,\n",
    "                mode='default'\n",
    "            )\n",
    "            to_print.append((f'echo \"Start {config_file}\"', command, config_file))\n",
    "\n",
    "    def sort_func(pair):\n",
    "        tag = pair[2]\n",
    "        app_num = int(tag.split('/')[1].split('-')[0])\n",
    "        task_id = int(tag.split('/')[1].split('-')[1])\n",
    "        subtask_id = int(tag.split('/')[-1].split('.')[0])\n",
    "        return app_num, task_id, subtask_id\n",
    "\n",
    "    to_print = sorted(to_print, key=sort_func)\n",
    "    for pair in to_print:\n",
    "        fw.write(pair[0] + '\\n')\n",
    "        fw.write(pair[1] + '\\n')\n",
    "        fw.write('\\n')"
   ]
  },
  {
   "cell_type": "code",
   "execution_count": null,
   "metadata": {},
   "outputs": [],
   "source": []
  }
 ],
 "metadata": {
  "kernelspec": {
   "display_name": "officebench",
   "language": "python",
   "name": "python3"
  },
  "language_info": {
   "codemirror_mode": {
    "name": "ipython",
    "version": 3
   },
   "file_extension": ".py",
   "mimetype": "text/x-python",
   "name": "python",
   "nbconvert_exporter": "python",
   "pygments_lexer": "ipython3",
   "version": "3.10.14"
  }
 },
 "nbformat": 4,
 "nbformat_minor": 2
}
